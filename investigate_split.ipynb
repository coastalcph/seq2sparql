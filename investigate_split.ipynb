{
 "cells": [
  {
   "cell_type": "code",
   "execution_count": 27,
   "metadata": {
    "collapsed": true
   },
   "outputs": [],
   "source": [
    "import json\n",
    "import numpy as np\n",
    "np.random.seed(4)"
   ]
  },
  {
   "cell_type": "code",
   "execution_count": 2,
   "outputs": [
    {
     "name": "stdout",
     "output_type": "stream",
     "text": [
      "Len of dataset: 239357\n"
     ]
    }
   ],
   "source": [
    "# read CFQ dataset\n",
    "with open(\"cfq/dataset.json\", \"r\") as injson:\n",
    "    inlist = json.load(injson)\n",
    "    total_entries = len(inlist)\n",
    "    print(f\"Len of dataset: {total_entries}\")"
   ],
   "metadata": {
    "collapsed": false,
    "pycharm": {
     "name": "#%%\n"
    }
   }
  },
  {
   "cell_type": "code",
   "execution_count": 5,
   "outputs": [],
   "source": [
    "'''simplify CFQ dataset by only saving its question index, question with brackets, question pattern,\n",
    "question template, sparql query, sparql pattern and recursion depth.'''\n",
    "simplified_cfq = []\n",
    "for h, i in enumerate(inlist):\n",
    "    single_cfq = {\n",
    "        'questionIdx': h,\n",
    "        'questionWithBrackets': i['questionWithBrackets'],\n",
    "        'questionPatternModEntities': i['questionPatternModEntities'],\n",
    "        'questionTemplate': i[\"complexityMeasures\"][\"questionTemplate\"],\n",
    "        'sparql': i['sparql'],\n",
    "        'sparqlPattern': i['sparqlPattern'],\n",
    "        'expectedResponse': i['expectedResponse'],\n",
    "        'recursionDepth': i['complexityMeasures']['recursionDepth']\n",
    "        }\n",
    "    simplified_cfq.append(single_cfq)"
   ],
   "metadata": {
    "collapsed": false,
    "pycharm": {
     "name": "#%%\n"
    }
   }
  },
  {
   "cell_type": "code",
   "execution_count": 6,
   "outputs": [],
   "source": [
    "# save simplified CFQ dataset\n",
    "with open('cfq/simplified_cfq.json','w') as f_1:\n",
    "    json.dump(simplified_cfq, f_1)"
   ],
   "metadata": {
    "collapsed": false,
    "pycharm": {
     "name": "#%%\n"
    }
   }
  },
  {
   "cell_type": "code",
   "execution_count": 7,
   "outputs": [
    {
     "name": "stdout",
     "output_type": "stream",
     "text": [
      "train set contains 95743 entries\n",
      "dev set contains 11968 entries\n",
      "test set contains 11968 entries\n"
     ]
    }
   ],
   "source": [
    "# read MCD1 split\n",
    "with open('cfq/splits/mcd1.json', 'r') as f:\n",
    "    splits = json.load(f)\n",
    "\n",
    "print(\"train set contains {} entries\".format(len(splits['trainIdxs'])))\n",
    "print(\"dev set contains {} entries\".format(len(splits['devIdxs'])))\n",
    "print(\"test set contains {} entries\".format(len(splits['testIdxs'])))"
   ],
   "metadata": {
    "collapsed": false,
    "pycharm": {
     "name": "#%%\n"
    }
   }
  },
  {
   "cell_type": "code",
   "execution_count": 8,
   "outputs": [],
   "source": [
    "#count numbers of train, dev, test split\n",
    "trainset = []\n",
    "for i in splits['trainIdxs']:\n",
    "    trainset.append(simplified_cfq[i])\n",
    "\n",
    "devset = []\n",
    "for i in splits['devIdxs']:\n",
    "    devset.append(simplified_cfq[i])\n",
    "\n",
    "testset = []\n",
    "for i in splits['testIdxs']:\n",
    "    testset.append(simplified_cfq[i])\n"
   ],
   "metadata": {
    "collapsed": false,
    "pycharm": {
     "name": "#%%\n"
    }
   }
  },
  {
   "cell_type": "code",
   "execution_count": 9,
   "outputs": [],
   "source": [
    "# create dictionaries of train, dev, test set with keys as their complexity/recursion depth\n",
    "complexity = []\n",
    "for i in simplified_cfq:\n",
    "    complexity.append(i['recursionDepth'])\n",
    "complexity = set(complexity)\n",
    "\n",
    "def get_dict_by_complexity(input):\n",
    "    dict_by_complexity = {element:[] for element in complexity}\n",
    "    for i in input:\n",
    "        dict_by_complexity[i['recursionDepth']].append(i)\n",
    "    return dict_by_complexity\n",
    "\n",
    "train_dict_by_complexity = get_dict_by_complexity(trainset)\n",
    "dev_dict_by_complexity = get_dict_by_complexity(devset)\n",
    "test_dict_by_complexity = get_dict_by_complexity(testset)"
   ],
   "metadata": {
    "collapsed": false,
    "pycharm": {
     "name": "#%%\n"
    }
   }
  },
  {
   "cell_type": "code",
   "execution_count": 10,
   "outputs": [
    {
     "name": "stdout",
     "output_type": "stream",
     "text": [
      "multiCFQ should have 1600.0 sentences in train set, 201.0 in dev set, 201.0 in test set. \n"
     ]
    }
   ],
   "source": [
    "'''calculate the numbers of train, dev, test set for multiCFQ\n",
    "multiCFQ should have 1600 sentences in train set, 201 in dev set, 201 in test set. '''\n",
    "num_train_sample = np.ceil(2000 * len(trainset)/len(trainset + devset + testset))\n",
    "num_dev_sample = np.ceil(2000 * len(devset)/len(trainset + devset + testset))\n",
    "num_test_sample = np.ceil(2000 * len(testset)/len(trainset + devset + testset))\n",
    "print(f'multiCFQ should have {num_train_sample} sentences in train set, {num_dev_sample} in dev set, {num_test_sample} in test set. ')"
   ],
   "metadata": {
    "collapsed": false,
    "pycharm": {
     "name": "#%%\n"
    }
   }
  },
  {
   "cell_type": "code",
   "execution_count": 11,
   "outputs": [],
   "source": [
    "#create dictionaries for the numbers of train, dev, test set for muiltiCFQ with keys as complexity/recursion depth\n",
    "multicfq_train_sample_num_to_complexity = {}\n",
    "for complexity, questions_by_complexity in train_dict_by_complexity.items():\n",
    "     multicfq_train_sample_num_to_complexity[complexity] = int(np.ceil(num_train_sample * len(questions_by_complexity)/len(trainset)))\n",
    "\n",
    "multicfq_dev_sample_num_to_complexity = {}\n",
    "for complexity, questions_by_complexity in dev_dict_by_complexity.items():\n",
    "     multicfq_dev_sample_num_to_complexity[complexity] = int(np.ceil(num_dev_sample * len(questions_by_complexity)/len(devset)))\n",
    "\n",
    "multicfq_test_sample_num_to_complexity = {}\n",
    "for complexity, questions_by_complexity in test_dict_by_complexity.items():\n",
    "     multicfq_test_sample_num_to_complexity[complexity] = int(np.ceil(num_test_sample * len(questions_by_complexity)/len(testset)))"
   ],
   "metadata": {
    "collapsed": false,
    "pycharm": {
     "name": "#%%\n"
    }
   }
  },
  {
   "cell_type": "code",
   "execution_count": 37,
   "outputs": [],
   "source": [
    "#create dictionaries for train, dev, test set for muiltiCFQ with keys as complexity/recursion depth\n",
    "np.random.seed(4)\n",
    "\n",
    "multicfq_train_by_complexity = {}\n",
    "for complexity, questions_by_complexity in train_dict_by_complexity.items():\n",
    "    multicfq_train_by_complexity[complexity] = np.random.choice(questions_by_complexity, multicfq_train_sample_num_to_complexity[complexity])\n",
    "\n",
    "multicfq_dev_by_complexity = {}\n",
    "for complexity, questions_by_complexity in dev_dict_by_complexity.items():\n",
    "    multicfq_dev_by_complexity[complexity] = np.random.choice(questions_by_complexity, multicfq_dev_sample_num_to_complexity[complexity])\n",
    "\n",
    "multicfq_test_by_complexity = {}\n",
    "for complexity, questions_by_complexity in test_dict_by_complexity.items():\n",
    "    multicfq_test_by_complexity[complexity] = np.random.choice(questions_by_complexity, multicfq_test_sample_num_to_complexity[complexity])"
   ],
   "metadata": {
    "collapsed": false,
    "pycharm": {
     "name": "#%%\n"
    }
   }
  },
  {
   "cell_type": "code",
   "execution_count": 38,
   "outputs": [],
   "source": [
    "#create lists for train, dev, test set for muiltiCFQ\n",
    "multicfq_train = []\n",
    "for value in multicfq_train_by_complexity.values():\n",
    "    multicfq_train.extend(value)\n",
    "\n",
    "multicfq_dev = []\n",
    "for value in multicfq_dev_by_complexity.values():\n",
    "    multicfq_dev.extend(value)\n",
    "\n",
    "multicfq_test = []\n",
    "for value in multicfq_test_by_complexity.values():\n",
    "    multicfq_test.extend(value)"
   ],
   "metadata": {
    "collapsed": false,
    "pycharm": {
     "name": "#%%\n"
    }
   }
  },
  {
   "cell_type": "code",
   "execution_count": 39,
   "outputs": [],
   "source": [
    "#save multiCFQ's train, dev, test set as json files\n",
    "with open('multicfq/multicfq_train.json','w') as m_train:\n",
    "    json.dump(multicfq_train, m_train)\n",
    "\n",
    "with open('multicfq/multicfq_dev.json','w') as m_dev:\n",
    "    json.dump(multicfq_dev, m_dev)\n",
    "\n",
    "with open('multicfq/multicfq_test.json','w') as m_test:\n",
    "    json.dump(multicfq_test, m_test)"
   ],
   "metadata": {
    "collapsed": false,
    "pycharm": {
     "name": "#%%\n"
    }
   }
  },
  {
   "cell_type": "code",
   "execution_count": null,
   "outputs": [],
   "source": [],
   "metadata": {
    "collapsed": false,
    "pycharm": {
     "name": "#%%\n"
    }
   }
  }
 ],
 "metadata": {
  "kernelspec": {
   "display_name": "Python 3",
   "language": "python",
   "name": "python3"
  },
  "language_info": {
   "codemirror_mode": {
    "name": "ipython",
    "version": 2
   },
   "file_extension": ".py",
   "mimetype": "text/x-python",
   "name": "python",
   "nbconvert_exporter": "python",
   "pygments_lexer": "ipython2",
   "version": "2.7.6"
  }
 },
 "nbformat": 4,
 "nbformat_minor": 0
}